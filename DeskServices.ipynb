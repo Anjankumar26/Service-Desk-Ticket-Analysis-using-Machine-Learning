{
 "cells": [
  {
   "cell_type": "code",
   "execution_count": 1,
   "id": "2b981f2c-fd01-4ece-8938-37825d17f3b3",
   "metadata": {},
   "outputs": [],
   "source": [
    "import pandas as pd\n",
    "import numpy as np\n",
    "import seaborn as sns\n",
    "\n",
    "from sklearn.preprocessing import OneHotEncoder, LabelEncoder\n",
    "from sklearn.model_selection import train_test_split\n",
    "from sklearn.ensemble import RandomForestClassifier, IsolationForest,RandomForestRegressor\n",
    "\n",
    "from lightgbm import LGBMClassifier\n",
    "from xgboost import XGBClassifier\n",
    "from sklearn.metrics import classification_report, roc_auc_score,precision_score, recall_score, f1_score,mean_squared_error, mean_absolute_percentage_error\n",
    "import datetime \n",
    "\n",
    "import lightgbm as lgb\n",
    "from skopt import BayesSearchCV\n",
    "from imblearn.pipeline import Pipeline\n",
    "from imblearn.over_sampling import SMOTE\n",
    "\n",
    "from scipy.stats.mstats import winsorize\n",
    "from pmdarima.arima import auto_arima\n",
    "from statsmodels.tsa.statespace.sarimax import SARIMAX\n",
    "from prophet import Prophet\n",
    "import warnings\n",
    "from sklearn.exceptions import UndefinedMetricWarning\n",
    "from imblearn.over_sampling import RandomOverSampler \n",
    "\n",
    "# Ignore all undefined‐metric warnings from sklearn\n",
    "warnings.filterwarnings(\"ignore\", category=UndefinedMetricWarning)\n",
    "warnings.filterwarnings(\"ignore\", category=FutureWarning)\n",
    "warnings.filterwarnings(\"ignore\", category=UserWarning)\n",
    "warnings.filterwarnings(\"ignore\", category=RuntimeWarning)"
   ]
  },
  {
   "cell_type": "markdown",
   "id": "854f14d1-907e-41b4-9032-cf85399e2a7b",
   "metadata": {},
   "source": [
    "## Data Loading"
   ]
  },
  {
   "cell_type": "code",
   "execution_count": 2,
   "id": "0d2435bd-8ab3-4938-af09-1e9d022e044c",
   "metadata": {},
   "outputs": [],
   "source": [
    "file_path=\"Desk Ticket Analysis.csv\""
   ]
  },
  {
   "cell_type": "code",
   "execution_count": 3,
   "id": "8a169df3-ca10-4216-b31f-bd77dff28445",
   "metadata": {},
   "outputs": [],
   "source": [
    "df=pd.read_csv(file_path,low_memory=False)"
   ]
  },
  {
   "cell_type": "code",
   "execution_count": 4,
   "id": "07b1a697-f8ec-46ba-9daa-ced8a3b49ba9",
   "metadata": {},
   "outputs": [
    {
     "name": "stdout",
     "output_type": "stream",
     "text": [
      "No of Rows : 46606, No of Columns : 25\n"
     ]
    }
   ],
   "source": [
    "print(f\"No of Rows : {df.shape[0]}, No of Columns : {df.shape[1]}\")"
   ]
  },
  {
   "cell_type": "code",
   "execution_count": 5,
   "id": "ac2cb418-6a0b-4024-92e5-abede4a56aa7",
   "metadata": {},
   "outputs": [
    {
     "data": {
      "text/html": [
       "<div>\n",
       "<style scoped>\n",
       "    .dataframe tbody tr th:only-of-type {\n",
       "        vertical-align: middle;\n",
       "    }\n",
       "\n",
       "    .dataframe tbody tr th {\n",
       "        vertical-align: top;\n",
       "    }\n",
       "\n",
       "    .dataframe thead th {\n",
       "        text-align: right;\n",
       "    }\n",
       "</style>\n",
       "<table border=\"1\" class=\"dataframe\">\n",
       "  <thead>\n",
       "    <tr style=\"text-align: right;\">\n",
       "      <th></th>\n",
       "      <th>Asset_ID</th>\n",
       "      <th>Asset_Group</th>\n",
       "      <th>Asset_Subtype</th>\n",
       "      <th>Budget_Code</th>\n",
       "      <th>Ticket_ID</th>\n",
       "      <th>Ticket_State</th>\n",
       "      <th>Business_Impact</th>\n",
       "      <th>Time_Criticality</th>\n",
       "      <th>Response_Priority</th>\n",
       "      <th>Client_Contact_Score</th>\n",
       "      <th>...</th>\n",
       "      <th>Reinitiated_At</th>\n",
       "      <th>Solution_Completed_At</th>\n",
       "      <th>Final_Closure_At</th>\n",
       "      <th>Effort_Duration_Hrs</th>\n",
       "      <th>Closure_Rationale</th>\n",
       "      <th>Interaction_Tally</th>\n",
       "      <th>Interaction_Ref</th>\n",
       "      <th>Incident_Link_Count</th>\n",
       "      <th>Change_Link_Count</th>\n",
       "      <th>Change_Ref_ID</th>\n",
       "    </tr>\n",
       "  </thead>\n",
       "  <tbody>\n",
       "    <tr>\n",
       "      <th>0</th>\n",
       "      <td>SUB000508</td>\n",
       "      <td>subapplication</td>\n",
       "      <td>Web Based Application</td>\n",
       "      <td>WBS000162</td>\n",
       "      <td>IM0000004</td>\n",
       "      <td>Closed</td>\n",
       "      <td>4</td>\n",
       "      <td>4</td>\n",
       "      <td>4.0</td>\n",
       "      <td>0.601292</td>\n",
       "      <td>...</td>\n",
       "      <td>NaN</td>\n",
       "      <td>04-11-2013 13:50</td>\n",
       "      <td>04-11-2013 13:51</td>\n",
       "      <td>3,87,16,91,111</td>\n",
       "      <td>Other</td>\n",
       "      <td>1.0</td>\n",
       "      <td>SD0000007</td>\n",
       "      <td>2.0</td>\n",
       "      <td>NaN</td>\n",
       "      <td>NaN</td>\n",
       "    </tr>\n",
       "    <tr>\n",
       "      <th>1</th>\n",
       "      <td>WBA000124</td>\n",
       "      <td>application</td>\n",
       "      <td>Web Based Application</td>\n",
       "      <td>WBS000088</td>\n",
       "      <td>IM0000005</td>\n",
       "      <td>Closed</td>\n",
       "      <td>3</td>\n",
       "      <td>3</td>\n",
       "      <td>3.0</td>\n",
       "      <td>0.415050</td>\n",
       "      <td>...</td>\n",
       "      <td>02-12-2013 12:31</td>\n",
       "      <td>02-12-2013 12:36</td>\n",
       "      <td>02-12-2013 12:36</td>\n",
       "      <td>4,35,47,86,389</td>\n",
       "      <td>Software</td>\n",
       "      <td>1.0</td>\n",
       "      <td>SD0000011</td>\n",
       "      <td>1.0</td>\n",
       "      <td>NaN</td>\n",
       "      <td>NaN</td>\n",
       "    </tr>\n",
       "    <tr>\n",
       "      <th>2</th>\n",
       "      <td>DTA000024</td>\n",
       "      <td>application</td>\n",
       "      <td>Desktop Application</td>\n",
       "      <td>WBS000092</td>\n",
       "      <td>IM0000006</td>\n",
       "      <td>Closed</td>\n",
       "      <td>NS</td>\n",
       "      <td>3</td>\n",
       "      <td>NaN</td>\n",
       "      <td>0.517551</td>\n",
       "      <td>...</td>\n",
       "      <td>NaN</td>\n",
       "      <td>13-01-2014 15:12</td>\n",
       "      <td>13-01-2014 15:13</td>\n",
       "      <td>4,84,31,19,444</td>\n",
       "      <td>No error - works as designed</td>\n",
       "      <td>1.0</td>\n",
       "      <td>SD0000017</td>\n",
       "      <td>NaN</td>\n",
       "      <td>NaN</td>\n",
       "      <td>NaN</td>\n",
       "    </tr>\n",
       "    <tr>\n",
       "      <th>3</th>\n",
       "      <td>WBA000124</td>\n",
       "      <td>application</td>\n",
       "      <td>Web Based Application</td>\n",
       "      <td>WBS000088</td>\n",
       "      <td>IM0000011</td>\n",
       "      <td>Closed</td>\n",
       "      <td>4</td>\n",
       "      <td>4</td>\n",
       "      <td>4.0</td>\n",
       "      <td>0.642927</td>\n",
       "      <td>...</td>\n",
       "      <td>NaN</td>\n",
       "      <td>14-11-2013 09:31</td>\n",
       "      <td>14-11-2013 09:31</td>\n",
       "      <td>4,32,18,33,333</td>\n",
       "      <td>Operator error</td>\n",
       "      <td>1.0</td>\n",
       "      <td>SD0000025</td>\n",
       "      <td>NaN</td>\n",
       "      <td>NaN</td>\n",
       "      <td>NaN</td>\n",
       "    </tr>\n",
       "    <tr>\n",
       "      <th>4</th>\n",
       "      <td>WBA000124</td>\n",
       "      <td>application</td>\n",
       "      <td>Web Based Application</td>\n",
       "      <td>WBS000088</td>\n",
       "      <td>IM0000012</td>\n",
       "      <td>Closed</td>\n",
       "      <td>4</td>\n",
       "      <td>4</td>\n",
       "      <td>4.0</td>\n",
       "      <td>0.345258</td>\n",
       "      <td>...</td>\n",
       "      <td>NaN</td>\n",
       "      <td>08-11-2013 13:55</td>\n",
       "      <td>08-11-2013 13:55</td>\n",
       "      <td>3,38,39,03,333</td>\n",
       "      <td>Other</td>\n",
       "      <td>1.0</td>\n",
       "      <td>SD0000029</td>\n",
       "      <td>NaN</td>\n",
       "      <td>NaN</td>\n",
       "      <td>NaN</td>\n",
       "    </tr>\n",
       "  </tbody>\n",
       "</table>\n",
       "<p>5 rows × 25 columns</p>\n",
       "</div>"
      ],
      "text/plain": [
       "    Asset_ID     Asset_Group          Asset_Subtype Budget_Code  Ticket_ID  \\\n",
       "0  SUB000508  subapplication  Web Based Application   WBS000162  IM0000004   \n",
       "1  WBA000124     application  Web Based Application   WBS000088  IM0000005   \n",
       "2  DTA000024     application    Desktop Application   WBS000092  IM0000006   \n",
       "3  WBA000124     application  Web Based Application   WBS000088  IM0000011   \n",
       "4  WBA000124     application  Web Based Application   WBS000088  IM0000012   \n",
       "\n",
       "  Ticket_State Business_Impact Time_Criticality  Response_Priority  \\\n",
       "0       Closed               4                4                4.0   \n",
       "1       Closed               3                3                3.0   \n",
       "2       Closed              NS                3                NaN   \n",
       "3       Closed               4                4                4.0   \n",
       "4       Closed               4                4                4.0   \n",
       "\n",
       "   Client_Contact_Score  ...    Reinitiated_At Solution_Completed_At  \\\n",
       "0              0.601292  ...               NaN      04-11-2013 13:50   \n",
       "1              0.415050  ...  02-12-2013 12:31      02-12-2013 12:36   \n",
       "2              0.517551  ...               NaN      13-01-2014 15:12   \n",
       "3              0.642927  ...               NaN      14-11-2013 09:31   \n",
       "4              0.345258  ...               NaN      08-11-2013 13:55   \n",
       "\n",
       "   Final_Closure_At  Effort_Duration_Hrs             Closure_Rationale  \\\n",
       "0  04-11-2013 13:51       3,87,16,91,111                         Other   \n",
       "1  02-12-2013 12:36       4,35,47,86,389                      Software   \n",
       "2  13-01-2014 15:13       4,84,31,19,444  No error - works as designed   \n",
       "3  14-11-2013 09:31       4,32,18,33,333                Operator error   \n",
       "4  08-11-2013 13:55       3,38,39,03,333                         Other   \n",
       "\n",
       "  Interaction_Tally Interaction_Ref Incident_Link_Count Change_Link_Count  \\\n",
       "0               1.0       SD0000007                 2.0               NaN   \n",
       "1               1.0       SD0000011                 1.0               NaN   \n",
       "2               1.0       SD0000017                 NaN               NaN   \n",
       "3               1.0       SD0000025                 NaN               NaN   \n",
       "4               1.0       SD0000029                 NaN               NaN   \n",
       "\n",
       "  Change_Ref_ID  \n",
       "0           NaN  \n",
       "1           NaN  \n",
       "2           NaN  \n",
       "3           NaN  \n",
       "4           NaN  \n",
       "\n",
       "[5 rows x 25 columns]"
      ]
     },
     "execution_count": 5,
     "metadata": {},
     "output_type": "execute_result"
    }
   ],
   "source": [
    "df.head()"
   ]
  },
  {
   "cell_type": "code",
   "execution_count": 6,
   "id": "8a92f141-bbfd-4d81-8bb5-81e383e0a4c7",
   "metadata": {},
   "outputs": [
    {
     "name": "stdout",
     "output_type": "stream",
     "text": [
      "<class 'pandas.core.frame.DataFrame'>\n",
      "RangeIndex: 46606 entries, 0 to 46605\n",
      "Data columns (total 25 columns):\n",
      " #   Column                 Non-Null Count  Dtype  \n",
      "---  ------                 --------------  -----  \n",
      " 0   Asset_ID               46606 non-null  object \n",
      " 1   Asset_Group            46495 non-null  object \n",
      " 2   Asset_Subtype          46495 non-null  object \n",
      " 3   Budget_Code            46606 non-null  object \n",
      " 4   Ticket_ID              46606 non-null  object \n",
      " 5   Ticket_State           46606 non-null  object \n",
      " 6   Business_Impact        46606 non-null  object \n",
      " 7   Time_Criticality       46606 non-null  object \n",
      " 8   Response_Priority      45226 non-null  float64\n",
      " 9   Client_Contact_Score   46606 non-null  float64\n",
      " 10  Issue_Type             46606 non-null  object \n",
      " 11  Knowledge_Link_ID      46606 non-null  object \n",
      " 12  Monitoring_Origin      46606 non-null  object \n",
      " 13  Team_Reassignments     46605 non-null  float64\n",
      " 14  Logged_At              46606 non-null  object \n",
      " 15  Reinitiated_At         2284 non-null   object \n",
      " 16  Solution_Completed_At  44826 non-null  object \n",
      " 17  Final_Closure_At       46606 non-null  object \n",
      " 18  Effort_Duration_Hrs    46605 non-null  object \n",
      " 19  Closure_Rationale      46146 non-null  object \n",
      " 20  Interaction_Tally      46492 non-null  float64\n",
      " 21  Interaction_Ref        46606 non-null  object \n",
      " 22  Incident_Link_Count    1222 non-null   float64\n",
      " 23  Change_Link_Count      560 non-null    float64\n",
      " 24  Change_Ref_ID          560 non-null    object \n",
      "dtypes: float64(6), object(19)\n",
      "memory usage: 8.9+ MB\n"
     ]
    }
   ],
   "source": [
    "df.info()"
   ]
  },
  {
   "cell_type": "markdown",
   "id": "90a8272f-2512-4f23-9d94-19fe6afdf88a",
   "metadata": {},
   "source": [
    "#### Removing Meta Columns"
   ]
  },
  {
   "cell_type": "code",
   "execution_count": 7,
   "id": "586788b3-d365-428d-931e-b9c2049b942d",
   "metadata": {},
   "outputs": [],
   "source": [
    "\"\"\"\n",
    "Meta Columns like Asset ID, etc wont help us, instead it will cause a deviation\n",
    "\"\"\"\n",
    "\n",
    "drop_cols = [\n",
    "        'Asset_ID', 'Ticket_ID', 'Budget_Code',\n",
    "        'Knowledge_Link_ID', 'Interaction_Ref', 'Change_Ref_ID',\n",
    "    ]\n",
    "df = df.drop(columns=[c for c in drop_cols if c in df.columns])"
   ]
  },
  {
   "cell_type": "markdown",
   "id": "8a0db03b-838b-405e-9b33-44944fe8b0c3",
   "metadata": {},
   "source": [
    "## Data Preprocessing"
   ]
  },
  {
   "cell_type": "markdown",
   "id": "a057e158-ca5a-4516-ab97-c68f19ee171a",
   "metadata": {},
   "source": [
    "##### Handling NULL Values"
   ]
  },
  {
   "cell_type": "code",
   "execution_count": 8,
   "id": "b46a1b35-2341-4086-8e1c-4320c162baf2",
   "metadata": {},
   "outputs": [
    {
     "name": "stdout",
     "output_type": "stream",
     "text": [
      "Missing Value Summary:\n",
      "                        NonNullCount  TotalCount  MissingCount  MissingPct\n",
      "Asset_Group                   46495       46606           111    0.238167\n",
      "Asset_Subtype                 46495       46606           111    0.238167\n",
      "Ticket_State                  46606       46606             0    0.000000\n",
      "Business_Impact               46606       46606             0    0.000000\n",
      "Time_Criticality              46606       46606             0    0.000000\n",
      "Response_Priority             45226       46606          1380    2.960992\n",
      "Client_Contact_Score          46606       46606             0    0.000000\n",
      "Issue_Type                    46606       46606             0    0.000000\n",
      "Monitoring_Origin             46606       46606             0    0.000000\n",
      "Team_Reassignments            46605       46606             1    0.002146\n",
      "Logged_At                     46606       46606             0    0.000000\n",
      "Reinitiated_At                 2284       46606         44322   95.099343\n",
      "Solution_Completed_At         44826       46606          1780    3.819251\n",
      "Final_Closure_At              46606       46606             0    0.000000\n",
      "Effort_Duration_Hrs           46605       46606             1    0.002146\n",
      "Closure_Rationale             46146       46606           460    0.986997\n",
      "Interaction_Tally             46492       46606           114    0.244604\n",
      "Incident_Link_Count            1222       46606         45384   97.378020\n",
      "Change_Link_Count               560       46606         46046   98.798438\n"
     ]
    }
   ],
   "source": [
    "def missing_summary(df):\n",
    "    miss = pd.DataFrame({\n",
    "        'NonNullCount': df.count(),\n",
    "        'TotalCount': len(df),\n",
    "        'MissingCount': df.isna().sum(),\n",
    "        'MissingPct': df.isna().mean() * 100\n",
    "    })\n",
    "    print(\"Missing Value Summary:\\n\", miss)\n",
    "missing_summary(df)"
   ]
  },
  {
   "cell_type": "code",
   "execution_count": 9,
   "id": "af0c290c-0242-49a7-8b2d-ede6269d665e",
   "metadata": {},
   "outputs": [],
   "source": [
    "\"\"\"\n",
    "As Response Priority Has 5 values, we can fill mode\n",
    "\"\"\"\n",
    "mode_prio = df['Response_Priority'].mode()[0]\n",
    "df['Response_Priority'] = df['Response_Priority'].fillna(mode_prio)"
   ]
  },
  {
   "cell_type": "code",
   "execution_count": 10,
   "id": "8c022158-a10f-43af-90a0-be98b88fbecd",
   "metadata": {},
   "outputs": [],
   "source": [
    "\"\"\"\n",
    "Filling 0 would me mean that no Reassignments\n",
    "\"\"\"\n",
    "df['Team_Reassignments']=df['Team_Reassignments'].fillna(0)"
   ]
  },
  {
   "cell_type": "code",
   "execution_count": 11,
   "id": "230e1458-510b-4b3f-9d42-068593c58741",
   "metadata": {},
   "outputs": [],
   "source": [
    "#Interaction_Tally: ~0.2% null → impute with median and cast to integer\n",
    "median_interactions = df['Interaction_Tally'].median()\n",
    "df['Interaction_Tally'] = df['Interaction_Tally'].fillna(median_interactions).astype(int)"
   ]
  },
  {
   "cell_type": "code",
   "execution_count": 12,
   "id": "a3274bdb-f19a-4a48-a03b-38639ef05eaa",
   "metadata": {},
   "outputs": [],
   "source": [
    "\"\"\"\n",
    "Null Values Means, Never they got any links, so we can fill 0\n",
    "\"\"\"\n",
    "df['Incident_Link_Count'] = df['Incident_Link_Count'].fillna(0).astype(int)\n",
    "df['Change_Link_Count']   = df['Change_Link_Count'].fillna(0).astype(int)"
   ]
  },
  {
   "cell_type": "code",
   "execution_count": 13,
   "id": "7a98a1bb-33c0-45f0-801c-a4a8bf0d6664",
   "metadata": {},
   "outputs": [],
   "source": [
    "df['Effort_Duration_Hrs'] = (\n",
    "    df['Effort_Duration_Hrs']\n",
    "    .astype(str)\n",
    "    .str.replace(r\"[^\\d.]\", \"\", regex=True)\n",
    "    .replace('', np.nan)\n",
    "    .astype(float)\n",
    ")\n",
    "# Impute missing with median\n",
    "median_effort = df['Effort_Duration_Hrs'].median()\n",
    "df['Effort_Duration_Hrs'] = df['Effort_Duration_Hrs'].fillna(median_effort)"
   ]
  },
  {
   "cell_type": "code",
   "execution_count": 14,
   "id": "1030df16-c92c-4781-a169-41ef18df55c2",
   "metadata": {},
   "outputs": [],
   "source": [
    "\"\"\"\n",
    "Closure Rationale has many values, so lets consider null as Other\n",
    "\"\"\"\n",
    "df['Closure_Rationale'] = df['Closure_Rationale'].fillna('Other')"
   ]
  },
  {
   "cell_type": "markdown",
   "id": "a1c75c99-f17d-4546-9b8f-e8bc8fd311c9",
   "metadata": {},
   "source": [
    "##### No Duplicated Values Detected"
   ]
  },
  {
   "cell_type": "code",
   "execution_count": 15,
   "id": "874f15ab-77dc-4b21-857e-4daf5f30b0de",
   "metadata": {},
   "outputs": [
    {
     "data": {
      "text/plain": [
       "0"
      ]
     },
     "execution_count": 15,
     "metadata": {},
     "output_type": "execute_result"
    }
   ],
   "source": [
    "df.duplicated().sum()"
   ]
  },
  {
   "cell_type": "code",
   "execution_count": 16,
   "id": "8a5e8f56-48eb-4653-b7bc-75be444c1339",
   "metadata": {},
   "outputs": [
    {
     "name": "stdout",
     "output_type": "stream",
     "text": [
      "Data Types & Unique Values:\n",
      "                       DataType  UniqueValues\n",
      "Asset_Group             object            13\n",
      "Asset_Subtype           object            65\n",
      "Ticket_State            object             2\n",
      "Business_Impact         object             6\n",
      "Time_Criticality        object             6\n",
      "Response_Priority      float64             5\n",
      "Client_Contact_Score   float64         46606\n",
      "Issue_Type              object             4\n",
      "Monitoring_Origin       object             1\n",
      "Team_Reassignments     float64            41\n",
      "Logged_At               object         34636\n",
      "Reinitiated_At          object          2245\n",
      "Solution_Completed_At   object         33628\n",
      "Final_Closure_At        object         34528\n",
      "Effort_Duration_Hrs    float64         30406\n",
      "Closure_Rationale       object            14\n",
      "Interaction_Tally        int32            49\n",
      "Incident_Link_Count      int32            25\n",
      "Change_Link_Count        int32             5\n"
     ]
    }
   ],
   "source": [
    "def type_unique_summary(df):\n",
    "    tu = pd.DataFrame({\n",
    "        'DataType': df.dtypes.astype(str),\n",
    "        'UniqueValues': df.nunique(dropna=False)\n",
    "    })\n",
    "    print(\"Data Types & Unique Values:\\n\", tu)\n",
    "type_unique_summary(df)"
   ]
  },
  {
   "cell_type": "markdown",
   "id": "8d297f9c-4875-4491-9802-04cb43dddc29",
   "metadata": {},
   "source": [
    "#### Feature Engineering"
   ]
  },
  {
   "cell_type": "code",
   "execution_count": null,
   "id": "85c557c3-1517-490b-a8b5-73caeb7b4a48",
   "metadata": {},
   "outputs": [],
   "source": [
    "# 1. Asset_Group: keep top 5, collapse the rest into \"Other\"\n",
    "top5_groups = df['Asset_Group'].value_counts().nlargest(5).index.tolist()\n",
    "\n",
    "df['Asset_Group_Cat'] = (\n",
    "    df['Asset_Group']\n",
    "    .where(df['Asset_Group'].isin(top5_groups), other='Other')\n",
    "    .astype('category')\n",
    ")\n",
    "loo\n",
    "# 2. Asset_Subtype: keep top 5, collapse the rest into \"Other\"\n",
    "top5_subtypes = df['Asset_Subtype'].value_counts().nlargest(5).index.tolist()\n",
    "\n",
    "df['Asset_Subtype_Cat'] = (\n",
    "    df['Asset_Subtype']\n",
    "    .where(df['Asset_Subtype'].isin(top5_subtypes), other='Other')\n",
    "    .astype('category')\n",
    ")"
   ]
  },
  {
   "cell_type": "code",
   "execution_count": 18,
   "id": "15d575a7-48fd-45ba-a2fc-815465615d17",
   "metadata": {},
   "outputs": [],
   "source": [
    "# 1. Business_Impact → integer, map 'NS' (Not Specified) to 0\n",
    "df['Business_Impact_Clean'] = (\n",
    "    df['Business_Impact']\n",
    "    .replace('NS', 0)                # map NS → 0\n",
    "    .astype(int)                     # cast all to int\n",
    ")\n",
    "\n",
    "# 2. Time_Criticality → integer (strip any trailing text like ' - Very Low')\n",
    "df['Time_Criticality_Clean'] = (\n",
    "    df['Time_Criticality']\n",
    "    .astype(str)\n",
    "    .str.extract(r'(\\d+)')           # grab numeric portion\n",
    "    .astype(int)\n",
    ")\n",
    "# 3b. Cast to integer\n",
    "df['Response_Priority'] = df['Response_Priority'].astype(int)\n",
    "\n",
    "# 3c. Extract binary feature for “high” (P1 or P2) vs others\n",
    "df['Is_High_Priority'] = (df['Response_Priority'] <= 2).astype(int)"
   ]
  },
  {
   "cell_type": "code",
   "execution_count": 19,
   "id": "2a8d197e-43e0-404d-8606-aa7a92d8a15a",
   "metadata": {},
   "outputs": [],
   "source": [
    "\"\"\"\n",
    "Converting into reuqired Format\n",
    "\"\"\"\n",
    "date_cols = ['Logged_At', 'Reinitiated_At', 'Solution_Completed_At', 'Final_Closure_At']\n",
    "for col in date_cols:\n",
    "    df[col] = pd.to_datetime(df[col], format='%d-%m-%Y %H:%M', errors='coerce')"
   ]
  },
  {
   "cell_type": "code",
   "execution_count": 20,
   "id": "bd400d16-3aa2-4cdc-a875-eb6dd421ab83",
   "metadata": {},
   "outputs": [],
   "source": [
    "\"\"\"\n",
    "Since it has many unique values, we are taking top 5 and rest as others\n",
    "\"\"\"\n",
    "counts = df['Closure_Rationale'].value_counts()\n",
    "rare = counts[counts < 100].index  # e.g. anything under 100 occurrences\n",
    "df['Closure_Rationale_Cat'] = (\n",
    "    df['Closure_Rationale']\n",
    "    .where(~df['Closure_Rationale'].isin(rare), other='Other')\n",
    "    .astype('category')\n",
    ")\n"
   ]
  },
  {
   "cell_type": "markdown",
   "id": "18091d1e-b9e8-4262-8c1b-5bdfc163dfd7",
   "metadata": {},
   "source": [
    "#### Removal After Feature Engineering"
   ]
  },
  {
   "cell_type": "code",
   "execution_count": 21,
   "id": "796e54b6-7704-49c2-be52-a90051b89b4f",
   "metadata": {},
   "outputs": [],
   "source": [
    "drop_cols=[ # Only one value left\n",
    "           'Monitoring_Origin',\n",
    "            # Raw categoricals replaced by cleaned versions\n",
    "            'Asset_Group','Asset_Subtype','Business_Impact','Time_Criticality',\n",
    "            # Raw text field\n",
    "            'Closure_Rationale'\n",
    "]"
   ]
  },
  {
   "cell_type": "code",
   "execution_count": 22,
   "id": "be4d4b5b-e5df-4986-8fcc-1e99011f3513",
   "metadata": {},
   "outputs": [],
   "source": [
    "df = df.drop(columns=[c for c in drop_cols if c in df.columns])"
   ]
  },
  {
   "cell_type": "code",
   "execution_count": 23,
   "id": "9fce1580-c99c-412a-b603-0b559ce30c3d",
   "metadata": {},
   "outputs": [
    {
     "name": "stdout",
     "output_type": "stream",
     "text": [
      "<class 'pandas.core.frame.DataFrame'>\n",
      "RangeIndex: 46606 entries, 0 to 46605\n",
      "Data columns (total 19 columns):\n",
      " #   Column                  Non-Null Count  Dtype         \n",
      "---  ------                  --------------  -----         \n",
      " 0   Ticket_State            46606 non-null  object        \n",
      " 1   Response_Priority       46606 non-null  int32         \n",
      " 2   Client_Contact_Score    46606 non-null  float64       \n",
      " 3   Issue_Type              46606 non-null  object        \n",
      " 4   Team_Reassignments      46606 non-null  float64       \n",
      " 5   Logged_At               46606 non-null  datetime64[ns]\n",
      " 6   Reinitiated_At          2284 non-null   datetime64[ns]\n",
      " 7   Solution_Completed_At   44826 non-null  datetime64[ns]\n",
      " 8   Final_Closure_At        46606 non-null  datetime64[ns]\n",
      " 9   Effort_Duration_Hrs     46606 non-null  float64       \n",
      " 10  Interaction_Tally       46606 non-null  int32         \n",
      " 11  Incident_Link_Count     46606 non-null  int32         \n",
      " 12  Change_Link_Count       46606 non-null  int32         \n",
      " 13  Asset_Group_Cat         46606 non-null  category      \n",
      " 14  Asset_Subtype_Cat       46606 non-null  category      \n",
      " 15  Business_Impact_Clean   46606 non-null  int32         \n",
      " 16  Time_Criticality_Clean  46606 non-null  int32         \n",
      " 17  Is_High_Priority        46606 non-null  int32         \n",
      " 18  Closure_Rationale_Cat   46606 non-null  category      \n",
      "dtypes: category(3), datetime64[ns](4), float64(3), int32(7), object(2)\n",
      "memory usage: 4.6+ MB\n"
     ]
    }
   ],
   "source": [
    "df.info()"
   ]
  },
  {
   "cell_type": "markdown",
   "id": "d7dff54b-c0f6-4f85-9dc5-214dd4800a20",
   "metadata": {},
   "source": [
    "### Encoding"
   ]
  },
  {
   "cell_type": "code",
   "execution_count": 24,
   "id": "5282fdf4-8d50-4043-b674-aec55935808d",
   "metadata": {},
   "outputs": [],
   "source": [
    "# Columns to one-hot encode\n",
    "onehot_cols = [\n",
    "    'Asset_Group_Cat',\n",
    "    'Asset_Subtype_Cat',\n",
    "    'Closure_Rationale_Cat',\n",
    "    'Issue_Type'\n",
    "]\n",
    "\n",
    "# Instantiate OneHotEncoder\n",
    "# drop='first' to avoid multicollinearity (optional)\n",
    "ohe = OneHotEncoder(sparse_output=False, drop='first', handle_unknown='ignore')\n",
    "\n",
    "# Fit and transform the dataframe\n",
    "ohe_array = ohe.fit_transform(df[onehot_cols])\n",
    "\n",
    "# Generate feature names and create a DataFrame\n",
    "ohe_cols = ohe.get_feature_names_out(onehot_cols)\n",
    "df_ohe = pd.DataFrame(ohe_array, columns=ohe_cols, index=df.index)\n",
    "\n",
    "# Concatenate back to original df and drop original columns\n",
    "df = pd.concat([df.drop(columns=onehot_cols), df_ohe], axis=1)\n",
    "\n",
    "# Label encode Ticket_State\n",
    "ticket_le = LabelEncoder()\n",
    "df['Ticket_State_Label'] = ticket_le.fit_transform(df['Ticket_State'])\n",
    "\n",
    "# Drop the original Ticket_State column if desired\n",
    "df.drop(columns=['Ticket_State'], inplace=True)"
   ]
  },
  {
   "cell_type": "code",
   "execution_count": 26,
   "id": "74268f97-c481-4e55-95f5-43f2aac4dd15",
   "metadata": {},
   "outputs": [
    {
     "data": {
      "text/plain": [
       "(46606, 39)"
      ]
     },
     "execution_count": 26,
     "metadata": {},
     "output_type": "execute_result"
    }
   ],
   "source": [
    "df.shape"
   ]
  },
  {
   "cell_type": "markdown",
   "id": "30783a94-29ad-48c2-a292-5a0815e40e20",
   "metadata": {},
   "source": [
    "#### Train_Test_split"
   ]
  },
  {
   "cell_type": "code",
   "execution_count": 28,
   "id": "ccbdb4a1-a5f7-4ef5-ac8a-9ca455c84650",
   "metadata": {},
   "outputs": [],
   "source": [
    "# Removing cols that may mismatch patterns\n",
    "leak_cols = [\n",
    "    'Logged_At', \n",
    "    'Reinitiated_At', \n",
    "    'Solution_Completed_At', \n",
    "    'Final_Closure_At',\n",
    "    'Effort_Duration_Hrs',\n",
    "]\n",
    "df_ml = df.drop(columns=leak_cols)"
   ]
  },
  {
   "cell_type": "code",
   "execution_count": 29,
   "id": "42d1b4af-e648-49c6-a5ca-5838e8888a7e",
   "metadata": {},
   "outputs": [],
   "source": [
    "df_ml['Is_High_Priority'] = (df_ml['Response_Priority'] <= 2).astype(int)\n",
    "# Features & target\n",
    "X = df_ml.drop(columns=['Is_High_Priority', 'Response_Priority','Business_Impact_Clean' ])\n",
    "y = df_ml['Is_High_Priority']\n",
    "\n",
    "# Stratified split\n",
    "X_train, X_test, y_train, y_test = train_test_split(\n",
    "    X, y,\n",
    "    test_size=0.3,\n",
    "    random_state=42\n",
    ")"
   ]
  },
  {
   "cell_type": "markdown",
   "id": "f2dbd572-dfde-4b9b-89b2-c6116afa316c",
   "metadata": {},
   "source": [
    "# Machine Leaning"
   ]
  },
  {
   "cell_type": "markdown",
   "id": "8f2ee1e6-7db6-4f42-9ef2-06dec3ba941f",
   "metadata": {},
   "source": [
    "### High-Priority Ticket Prediction (P1, P2)"
   ]
  },
  {
   "cell_type": "code",
   "execution_count": 30,
   "id": "f8b0a100-7ebf-40da-8edd-f99c829ef3e5",
   "metadata": {},
   "outputs": [
    {
     "name": "stdout",
     "output_type": "stream",
     "text": [
      "RF Classification Report\n",
      "               precision    recall  f1-score   support\n",
      "\n",
      "           0       1.00      1.00      1.00     13772\n",
      "           1       0.98      1.00      0.99       210\n",
      "\n",
      "    accuracy                           1.00     13982\n",
      "   macro avg       0.99      1.00      0.99     13982\n",
      "weighted avg       1.00      1.00      1.00     13982\n",
      "\n",
      "RF ROC AUC: 0.9998091365503506\n",
      "\n",
      "XGB Classification Report\n",
      "               precision    recall  f1-score   support\n",
      "\n",
      "           0       1.00      1.00      1.00     13772\n",
      "           1       0.98      1.00      0.99       210\n",
      "\n",
      "    accuracy                           1.00     13982\n",
      "   macro avg       0.99      1.00      0.99     13982\n",
      "weighted avg       1.00      1.00      1.00     13982\n",
      "\n",
      "XGB ROC AUC: 0.9999355144323195\n"
     ]
    }
   ],
   "source": [
    "# Random Forest\n",
    "rf = RandomForestClassifier(\n",
    "    n_estimators=200,\n",
    "    max_depth=8,\n",
    "    class_weight='balanced',\n",
    "    random_state=42,\n",
    "    n_jobs=-1\n",
    ")\n",
    "rf.fit(X_train, y_train)\n",
    "pred_rf = rf.predict(X_test)\n",
    "prob_rf = rf.predict_proba(X_test)[:,1]\n",
    "\n",
    "print(\"RF Classification Report\\n\", classification_report(y_test, pred_rf))\n",
    "print(\"RF ROC AUC:\", roc_auc_score(y_test, prob_rf))\n",
    "\n",
    "# XGBoost\n",
    "xgb = XGBClassifier(\n",
    "    n_estimators=200,\n",
    "    max_depth=6,\n",
    "    learning_rate=0.1,\n",
    "    subsample=0.8,\n",
    "    colsample_bytree=0.8,\n",
    "    scale_pos_weight=(y_train==0).sum()/(y_train==1).sum(),\n",
    "    use_label_encoder=False,\n",
    "    eval_metric='logloss',\n",
    "    random_state=42,\n",
    "    n_jobs=-1\n",
    ")\n",
    "xgb.fit(X_train, y_train)\n",
    "pred_xgb = xgb.predict(X_test)\n",
    "prob_xgb = xgb.predict_proba(X_test)[:,1]\n",
    "\n",
    "print(\"\\nXGB Classification Report\\n\", classification_report(y_test, pred_xgb))\n",
    "print(\"XGB ROC AUC:\", roc_auc_score(y_test, prob_xgb))\n"
   ]
  },
  {
   "cell_type": "code",
   "execution_count": 31,
   "id": "2e6c8db0-a13c-4924-a99c-8cff99d776ac",
   "metadata": {},
   "outputs": [
    {
     "name": "stdout",
     "output_type": "stream",
     "text": [
      " Random Forest F1 Score: 98.81796690307328\n",
      " XG Boost F1 Score: 98.81796690307328\n"
     ]
    }
   ],
   "source": [
    "print(f\" Random Forest F1 Score: {f1_score(y_test, pred_rf)*100}\")\n",
    "print(f\" XG Boost F1 Score: {f1_score(y_test, pred_xgb)*100}\")"
   ]
  },
  {
   "cell_type": "markdown",
   "id": "30f8d6d0-d33d-402d-a7e4-331adcff2d9c",
   "metadata": {},
   "source": [
    "### Automated Classification of Tickets"
   ]
  },
  {
   "cell_type": "code",
   "execution_count": 34,
   "id": "11b6a029-3270-4649-9b1f-8f5e214e891f",
   "metadata": {},
   "outputs": [
    {
     "name": "stdout",
     "output_type": "stream",
     "text": [
      "=== Priority Classification: XGBoost ===\n",
      "              precision    recall  f1-score   support\n",
      "\n",
      "           0     0.0000    0.0000    0.0000         1\n",
      "           1     1.0000    0.9928    0.9964       139\n",
      "           2     0.9962    0.9784    0.9872      1065\n",
      "           3     0.9952    0.9900    0.9926      4820\n",
      "           4     0.9859    0.9997    0.9928      3297\n",
      "\n",
      "    accuracy                         0.9921      9322\n",
      "   macro avg     0.7955    0.7922    0.7938      9322\n",
      "weighted avg     0.9920    0.9921    0.9920      9322\n",
      "\n",
      "=== Priority Classification: Random Forest ===\n",
      "              precision    recall  f1-score   support\n",
      "\n",
      "           0     0.0000    0.0000    0.0000         1\n",
      "           1     0.8804    0.5827    0.7013       139\n",
      "           2     0.9951    0.9446    0.9692      1065\n",
      "           3     0.9764    0.9867    0.9815      4820\n",
      "           4     0.9848    1.0000    0.9923      3297\n",
      "\n",
      "    accuracy                         0.9805      9322\n",
      "   macro avg     0.7673    0.7028    0.7289      9322\n",
      "weighted avg     0.9800    0.9805    0.9797      9322\n",
      "\n"
     ]
    }
   ],
   "source": [
    "df_priority = df_ml.copy()\n",
    "drop_cols=['Is_High_Priority','Response_Priority','Time_Criticality_Clean']\n",
    "X_prio = df_priority.drop(columns=drop_cols, errors='ignore')\n",
    "y_prio = df_priority['Response_Priority'].astype(int) - 1\n",
    "\n",
    "\n",
    "# Train/test split: stratify by priority\n",
    "X_train_pr, X_test_pr, y_train_pr, y_test_pr = train_test_split(\n",
    "    X_prio, y_prio,\n",
    "    test_size=0.2,\n",
    "    stratify=y_prio,\n",
    "    random_state=42\n",
    ")\n",
    "\n",
    "# 2) XGBoost for Priority\n",
    "xgb_prio = XGBClassifier(\n",
    "    n_estimators=200,\n",
    "    learning_rate=0.1,\n",
    "    use_label_encoder=False,\n",
    "    eval_metric='mlogloss',\n",
    "    random_state=42\n",
    ")\n",
    "xgb_prio.fit(X_train_pr, y_train_pr)\n",
    "y_pred_xgb_prio = xgb_prio.predict(X_test_pr)\n",
    "print(\"=== Priority Classification: XGBoost ===\")\n",
    "print(classification_report(y_test_pr, y_pred_xgb_prio, digits=4))\n",
    "\n",
    "# 3) Random Forest for Priority\n",
    "rf_prio = RandomForestClassifier(\n",
    "    n_estimators=200,\n",
    "    max_depth=10,\n",
    "    random_state=42,\n",
    "    n_jobs=-1\n",
    ")\n",
    "rf_prio.fit(X_train_pr, y_train_pr)\n",
    "y_pred_rf_prio = rf_prio.predict(X_test_pr)\n",
    "print(\"=== Priority Classification: Random Forest ===\")\n",
    "print(classification_report(y_test_pr, y_pred_rf_prio, digits=4))\n"
   ]
  },
  {
   "cell_type": "markdown",
   "id": "be2c660c-f6fb-4523-8f41-1711ba54d087",
   "metadata": {},
   "source": [
    "### RFC and Misconfiguration Risk Prediction"
   ]
  },
  {
   "cell_type": "markdown",
   "id": "db58cad4-f91e-4407-a89b-a7f66cbb7865",
   "metadata": {},
   "source": [
    "#### Request for Change"
   ]
  },
  {
   "cell_type": "code",
   "execution_count": 35,
   "id": "bb28aad0-80ef-46b5-86a6-51a103504167",
   "metadata": {},
   "outputs": [
    {
     "data": {
      "text/plain": [
       "Issue_Type_request for change\n",
       "0.0    46605\n",
       "1.0        1\n",
       "Name: count, dtype: int64"
      ]
     },
     "execution_count": 35,
     "metadata": {},
     "output_type": "execute_result"
    }
   ],
   "source": [
    "\"\"\" \n",
    "Only one value is avaialbale it won't be helpful, so trying with a different feature\n",
    "\n",
    "\"\"\"\n",
    "df_ml['Issue_Type_request for change'].value_counts()"
   ]
  },
  {
   "cell_type": "code",
   "execution_count": 36,
   "id": "b3156c2f-0eee-4350-b5da-187e89698eee",
   "metadata": {},
   "outputs": [],
   "source": [
    "\"\"\"\n",
    "As we the actual feature has only 1 value, which wont help us, lets try with differnt feature\n",
    "\n",
    "\"\"\"\n",
    "df_ml['Will_Require_Change'] = (df_ml['Change_Link_Count'] > 0).astype(int)"
   ]
  },
  {
   "cell_type": "code",
   "execution_count": 37,
   "id": "6d8d7bbb-4839-44f6-9c32-de059eb5dee5",
   "metadata": {},
   "outputs": [
    {
     "data": {
      "text/plain": [
       "Will_Require_Change\n",
       "0    46046\n",
       "1      560\n",
       "Name: count, dtype: int64"
      ]
     },
     "execution_count": 37,
     "metadata": {},
     "output_type": "execute_result"
    }
   ],
   "source": [
    "\"\"\"\n",
    "Here Also less count of 1's, using SMOT for oversampling\n",
    "\"\"\"\n",
    "df_ml['Will_Require_Change'].value_counts()"
   ]
  },
  {
   "cell_type": "code",
   "execution_count": 38,
   "id": "ef65da3c-7845-4363-8ea0-3d6137d60a2a",
   "metadata": {},
   "outputs": [],
   "source": [
    "X = df_ml.drop(columns=['Will_Require_Change','Change_Link_Count'])\n",
    "y = df_ml['Will_Require_Change']\n",
    "X_train, X_test, y_train, y_test = train_test_split(\n",
    "    X, y, \n",
    "    test_size=0.2,\n",
    "    stratify=y,\n",
    "    random_state=42)"
   ]
  },
  {
   "cell_type": "code",
   "execution_count": 39,
   "id": "543d47be-76d6-4a03-8d2e-37bcd06a5d7a",
   "metadata": {},
   "outputs": [
    {
     "name": "stdout",
     "output_type": "stream",
     "text": [
      "After oversampling, training class distribution: [36836 36836]\n",
      "=== Random Forest (with oversampling) ===\n",
      "              precision    recall  f1-score   support\n",
      "\n",
      "           0       0.99      0.76      0.86      9210\n",
      "           1       0.03      0.64      0.06       112\n",
      "\n",
      "    accuracy                           0.76      9322\n",
      "   macro avg       0.51      0.70      0.46      9322\n",
      "weighted avg       0.98      0.76      0.85      9322\n",
      "\n",
      "ROC AUC: 0.7779412905227238\n",
      "=== XGBoost (with oversampling) ===\n",
      "              precision    recall  f1-score   support\n",
      "\n",
      "           0       0.99      0.87      0.93      9210\n",
      "           1       0.04      0.46      0.08       112\n",
      "\n",
      "    accuracy                           0.87      9322\n",
      "   macro avg       0.52      0.67      0.50      9322\n",
      "weighted avg       0.98      0.87      0.92      9322\n",
      "\n",
      "ROC AUC: 0.7372120753838995\n"
     ]
    }
   ],
   "source": [
    "# === BALANCING STEP (CHANGED) ===\n",
    "\n",
    "sm = SMOTE(\n",
    "    sampling_strategy='auto',\n",
    "    random_state=0,\n",
    "    k_neighbors=5,\n",
    ")\n",
    "X_res, y_res = sm.fit_resample(X, y)\n",
    "X_train_bal, y_train_bal = sm.fit_resample(X_train, y_train)\n",
    "\n",
    "print(\"After oversampling, training class distribution:\", np.bincount(y_train_bal))\n",
    "\n",
    "# 3) Random Forest with balanced data\n",
    "rf = RandomForestClassifier(\n",
    "    n_estimators=200,\n",
    "    max_depth=8,\n",
    "    class_weight='balanced',\n",
    "    random_state=42,\n",
    "    n_jobs=-1\n",
    ")\n",
    "rf.fit(X_train_bal, y_train_bal)  # CHANGED: fit on balanced data\n",
    "pred_rf = rf.predict(X_test)\n",
    "prob_rf = rf.predict_proba(X_test)[:,1]\n",
    "print(\"=== Random Forest (with oversampling) ===\")\n",
    "print(classification_report(y_test, pred_rf))\n",
    "print(\"ROC AUC:\", roc_auc_score(y_test, prob_rf))\n",
    "\n",
    "# 4) XGBoost with scale_pos_weight and balanced data\n",
    "# Compute new scale_pos_weight after oversampling\n",
    "scale_pos = (y_train_bal == 0).sum() / (y_train_bal == 1).sum()\n",
    "xgb = XGBClassifier(\n",
    "    n_estimators=200,\n",
    "    max_depth=6,\n",
    "    learning_rate=0.1,\n",
    "    subsample=0.8,\n",
    "    colsample_bytree=0.8,\n",
    "    scale_pos_weight=scale_pos,  # CHANGED: recomputed after oversampling\n",
    "    use_label_encoder=False,\n",
    "    eval_metric='logloss',\n",
    "    random_state=42,\n",
    "    n_jobs=-1\n",
    ")\n",
    "xgb.fit(X_train_bal, y_train_bal)  # CHANGED: fit on balanced data\n",
    "pred_xgb = xgb.predict(X_test)\n",
    "prob_xgb = xgb.predict_proba(X_test)[:,1]\n",
    "print(\"=== XGBoost (with oversampling) ===\")\n",
    "print(classification_report(y_test, pred_xgb))\n",
    "print(\"ROC AUC:\", roc_auc_score(y_test, prob_xgb))"
   ]
  },
  {
   "cell_type": "markdown",
   "id": "257085dc-25b9-4b36-869b-368eeedffe67",
   "metadata": {},
   "source": [
    "#### HyperParameter Tuning For RFC ( Scoring= roc_auc )"
   ]
  },
  {
   "cell_type": "code",
   "execution_count": 40,
   "id": "9c70dddc-1250-4510-b69b-98b1c80f8d7c",
   "metadata": {},
   "outputs": [
    {
     "name": "stdout",
     "output_type": "stream",
     "text": [
      "Starting Bayesian search for RF pipeline...\n",
      "Best RF params: OrderedDict({'rf__max_depth': 12, 'rf__min_samples_leaf': 20, 'rf__n_estimators': 300})\n",
      "=== Tuned Random Forest (SMOTE + BayesianSearch) ===\n",
      "              precision    recall  f1-score   support\n",
      "\n",
      "           0       0.99      0.79      0.88      9210\n",
      "           1       0.03      0.60      0.06       112\n",
      "\n",
      "    accuracy                           0.79      9322\n",
      "   macro avg       0.51      0.69      0.47      9322\n",
      "weighted avg       0.98      0.79      0.87      9322\n",
      "\n",
      "Random Forest ROC AUC: 0.7923\n",
      "Starting Bayesian search for XGBoost pipeline...\n",
      "Best XGB params: OrderedDict({'xgb__colsample_bytree': 1.0, 'xgb__learning_rate': 0.00979199861122808, 'xgb__max_depth': 12, 'xgb__n_estimators': 500, 'xgb__subsample': 0.5})\n",
      "=== Tuned XGBoost (SMOTE + BayesianSearch) ===\n",
      "              precision    recall  f1-score   support\n",
      "\n",
      "           0       0.99      0.87      0.93      9210\n",
      "           1       0.04      0.45      0.08       112\n",
      "\n",
      "    accuracy                           0.87      9322\n",
      "   macro avg       0.52      0.66      0.50      9322\n",
      "weighted avg       0.98      0.87      0.92      9322\n",
      "\n",
      "XGBoost ROC AUC: 0.7712\n"
     ]
    }
   ],
   "source": [
    "## Random Forest pipeline\n",
    "rf_pipe = Pipeline([\n",
    "    ('smote', SMOTE(random_state=42)),\n",
    "    ('rf', RandomForestClassifier(random_state=42, n_jobs=-1))\n",
    "])\n",
    "\n",
    "## Bayesian search space for RF\n",
    "rf_search_space = {\n",
    "    'rf__n_estimators': (50, 300),\n",
    "    'rf__max_depth': (3, 12),\n",
    "    'rf__min_samples_leaf': (1, 20)\n",
    "}\n",
    "\n",
    "bayes_rf = BayesSearchCV(\n",
    "    rf_pipe,\n",
    "    rf_search_space,\n",
    "    n_iter=20,\n",
    "    scoring='roc_auc', # Changed to roc_auc\n",
    "    cv=5,\n",
    "    random_state=42,\n",
    "    n_jobs=-1\n",
    ")\n",
    "print(\"Starting Bayesian search for RF pipeline...\")\n",
    "bayes_rf.fit(X_train, y_train)\n",
    "print(\"Best RF params:\", bayes_rf.best_params_)\n",
    "\n",
    "y_pred_rf = bayes_rf.predict(X_test)\n",
    "y_proba_rf = bayes_rf.predict_proba(X_test)[:, 1] # Get probabilities for ROC AUC\n",
    "\n",
    "print(\"=== Tuned Random Forest (SMOTE + BayesianSearch) ===\")\n",
    "print(classification_report(y_test, y_pred_rf))\n",
    "print(f\"Random Forest ROC AUC: {roc_auc_score(y_test, y_proba_rf):.4f}\") # Print ROC AUC\n",
    "\n",
    "## XGBoost pipeline\n",
    "xgb_pipe = Pipeline([\n",
    "    ('smote', SMOTE(\n",
    "        sampling_strategy='auto',\n",
    "        random_state=0,\n",
    "        k_neighbors=5,)),\n",
    "    ('xgb', XGBClassifier(\n",
    "        use_label_encoder=False,\n",
    "        eval_metric='logloss',\n",
    "        random_state=42,\n",
    "        n_jobs=-1\n",
    "    ))\n",
    "])\n",
    "\n",
    "## Bayesian search space for XGB\n",
    "xgb_search_space = {\n",
    "    'xgb__n_estimators': (100, 500),\n",
    "    'xgb__max_depth': (3, 12),\n",
    "    'xgb__learning_rate': (1e-3, 1.0, 'log-uniform'),\n",
    "    'xgb__subsample': (0.5, 1.0, 'uniform'),\n",
    "    'xgb__colsample_bytree': (0.5, 1.0, 'uniform')\n",
    "}\n",
    "\n",
    "bayes_xgb = BayesSearchCV(\n",
    "    xgb_pipe,\n",
    "    xgb_search_space,\n",
    "    n_iter=20,\n",
    "    scoring='roc_auc',  # Changed to roc_auc\n",
    "    cv=5,\n",
    "    random_state=42,\n",
    "    n_jobs=-1\n",
    ")\n",
    "print(\"Starting Bayesian search for XGBoost pipeline...\")\n",
    "bayes_xgb.fit(X_train, y_train)\n",
    "print(\"Best XGB params:\", bayes_xgb.best_params_)\n",
    "\n",
    "y_pred_xgb = bayes_xgb.predict(X_test)\n",
    "y_proba_xgb = bayes_xgb.predict_proba(X_test)[:, 1] # Get probabilities for ROC AUC\n",
    "\n",
    "print(\"=== Tuned XGBoost (SMOTE + BayesianSearch) ===\")\n",
    "print(classification_report(y_test, y_pred_xgb))\n",
    "print(f\"XGBoost ROC AUC: {roc_auc_score(y_test, y_proba_xgb):.4f}\") # Print ROC AUC"
   ]
  },
  {
   "cell_type": "markdown",
   "id": "aecc06d5-85af-4051-82ce-1a12ef01fd73",
   "metadata": {},
   "source": [
    "### Misconfiguration Risk Prediction"
   ]
  },
  {
   "cell_type": "code",
   "execution_count": 41,
   "id": "bb358cb3-6497-498c-9294-c5688130c8ed",
   "metadata": {},
   "outputs": [
    {
     "name": "stdout",
     "output_type": "stream",
     "text": [
      "=== Isolation Forest Misconfiguration Risk ===\n",
      "Total tickets flagged as high risk (~top 5%): 2331\n"
     ]
    }
   ],
   "source": [
    "# 2. Instantiate IsolationForest with tuned hyperparameters\n",
    "iso = IsolationForest(\n",
    "    n_estimators=300,        # number of trees in the ensemble\n",
    "    max_samples=0.7,         # use 70% of samples for each tree (reduces variance)\n",
    "    contamination=0.05,      # assume ~5% of tickets are high‐risk anomalies\n",
    "    max_features=0.7,        # use 70% of features when building each tree\n",
    "    bootstrap=False,         # sample without replacement\n",
    "    n_jobs=-1,               # parallelize across all CPUs\n",
    "    random_state=42,         # reproducible results\n",
    "    verbose=0\n",
    ")\n",
    "\n",
    "# 3. Fit on all available tickets (unsupervised)\n",
    "iso.fit(df_ml)\n",
    "\n",
    "# 4. Predict anomaly scores: -1 for anomalous (high misconfiguration risk), 1 for normal\n",
    "anom_labels = iso.predict(df_ml)\n",
    "\n",
    "# 5. Count how many tickets are flagged as high risk\n",
    "high_risk_count = np.sum(anom_labels == -1)\n",
    "print(\"=== Isolation Forest Misconfiguration Risk ===\")\n",
    "print(f\"Total tickets flagged as high risk (~top 5%): {high_risk_count}\")\n",
    "\n",
    "# 6. (Optional) Attach risk label back to DataFrame\n",
    "df_ml['Iso_Risk_Flag'] = (anom_labels == -1).astype(int)"
   ]
  },
  {
   "cell_type": "code",
   "execution_count": 42,
   "id": "676f7a86-0c2d-46c0-a1cb-f44adec2e9ce",
   "metadata": {},
   "outputs": [
    {
     "data": {
      "text/plain": [
       "'\\nThe IT team can evaluate 2331 records, which are misconfigured\\n'"
      ]
     },
     "execution_count": 42,
     "metadata": {},
     "output_type": "execute_result"
    }
   ],
   "source": [
    "\"\"\"\n",
    "The IT team can evaluate 2331 records, which are misconfigured, this saves a lot of time \n",
    "\"\"\""
   ]
  },
  {
   "cell_type": "code",
   "execution_count": null,
   "id": "b71223ed-76e9-4951-919e-f008835207c4",
   "metadata": {},
   "outputs": [],
   "source": []
  },
  {
   "cell_type": "code",
   "execution_count": null,
   "id": "4ae229b5-d3ee-4835-b3a6-79a037bfd648",
   "metadata": {},
   "outputs": [],
   "source": []
  }
 ],
 "metadata": {
  "kernelspec": {
   "display_name": "Python 3 (ipykernel)",
   "language": "python",
   "name": "python3"
  },
  "language_info": {
   "codemirror_mode": {
    "name": "ipython",
    "version": 3
   },
   "file_extension": ".py",
   "mimetype": "text/x-python",
   "name": "python",
   "nbconvert_exporter": "python",
   "pygments_lexer": "ipython3",
   "version": "3.12.7"
  }
 },
 "nbformat": 4,
 "nbformat_minor": 5
}
